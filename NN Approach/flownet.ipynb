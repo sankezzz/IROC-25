{
 "cells": [
  {
   "cell_type": "code",
   "execution_count": 1,
   "metadata": {},
   "outputs": [
    {
     "ename": "ModuleNotFoundError",
     "evalue": "No module named 'flownet2'",
     "output_type": "error",
     "traceback": [
      "\u001b[1;31m---------------------------------------------------------------------------\u001b[0m",
      "\u001b[1;31mModuleNotFoundError\u001b[0m                       Traceback (most recent call last)",
      "Cell \u001b[1;32mIn[1], line 4\u001b[0m\n\u001b[0;32m      2\u001b[0m \u001b[38;5;28;01mimport\u001b[39;00m \u001b[38;5;21;01mnumpy\u001b[39;00m \u001b[38;5;28;01mas\u001b[39;00m \u001b[38;5;21;01mnp\u001b[39;00m\n\u001b[0;32m      3\u001b[0m \u001b[38;5;28;01mimport\u001b[39;00m \u001b[38;5;21;01mcv2\u001b[39;00m\n\u001b[1;32m----> 4\u001b[0m \u001b[38;5;28;01mfrom\u001b[39;00m \u001b[38;5;21;01mflownet2\u001b[39;00m\u001b[38;5;21;01m.\u001b[39;00m\u001b[38;5;21;01mmodels\u001b[39;00m \u001b[38;5;28;01mimport\u001b[39;00m FlowNet2\n\u001b[0;32m      5\u001b[0m \u001b[38;5;28;01mfrom\u001b[39;00m \u001b[38;5;21;01mflownet2\u001b[39;00m\u001b[38;5;21;01m.\u001b[39;00m\u001b[38;5;21;01mutils\u001b[39;00m\u001b[38;5;21;01m.\u001b[39;00m\u001b[38;5;21;01mframe_utils\u001b[39;00m \u001b[38;5;28;01mimport\u001b[39;00m read_gen\n\u001b[0;32m      7\u001b[0m \u001b[38;5;66;03m# Load pre-trained FlowNet2 model\u001b[39;00m\n",
      "\u001b[1;31mModuleNotFoundError\u001b[0m: No module named 'flownet2'"
     ]
    }
   ],
   "source": [
    "import torch\n",
    "import numpy as np\n",
    "import cv2\n",
    "from flownet2.models import FlowNet2\n",
    "from flownet2.utils.frame_utils import read_gen\n",
    "\n",
    "# Load pre-trained FlowNet2 model\n",
    "device = \"cuda\" if torch.cuda.is_available() else \"cpu\"\n",
    "flownet = FlowNet2().to(device)\n",
    "flownet.load_state_dict(torch.load(\"FlowNet2_checkpoint.pth\"))\n",
    "flownet.eval()\n",
    "\n",
    "def estimate_drift(frame1, frame2):\n",
    "    # Preprocess frames\n",
    "    frame1 = read_gen(frame1)\n",
    "    frame2 = read_gen(frame2)\n",
    "    \n",
    "    frame1 = torch.tensor(frame1).permute(2, 0, 1).unsqueeze(0).float().to(device)\n",
    "    frame2 = torch.tensor(frame2).permute(2, 0, 1).unsqueeze(0).float().to(device)\n",
    "    \n",
    "    # Estimate optical flow\n",
    "    with torch.no_grad():\n",
    "        flow = flownet(torch.cat([frame1, frame2], dim=1))\n",
    "\n",
    "    # Compute average displacement\n",
    "    flow_np = flow.squeeze().cpu().numpy()\n",
    "    dx, dy = np.mean(flow_np[0]), np.mean(flow_np[1])\n",
    "    \n",
    "    return dx, dy\n",
    "\n",
    "# Example usage\n",
    "dx, dy = estimate_drift(\"frame1.png\", \"frame2.png\")\n",
    "print(f\"Drone Drift: Δx = {dx} px, Δy = {dy} px\")\n"
   ]
  },
  {
   "cell_type": "code",
   "execution_count": null,
   "metadata": {},
   "outputs": [],
   "source": []
  }
 ],
 "metadata": {
  "kernelspec": {
   "display_name": "Python 3",
   "language": "python",
   "name": "python3"
  },
  "language_info": {
   "codemirror_mode": {
    "name": "ipython",
    "version": 3
   },
   "file_extension": ".py",
   "mimetype": "text/x-python",
   "name": "python",
   "nbconvert_exporter": "python",
   "pygments_lexer": "ipython3",
   "version": "3.12.2"
  }
 },
 "nbformat": 4,
 "nbformat_minor": 2
}
