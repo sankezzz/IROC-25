{
 "cells": [
  {
   "cell_type": "code",
   "execution_count": 1,
   "metadata": {},
   "outputs": [
    {
     "name": "stderr",
     "output_type": "stream",
     "text": [
      "c:\\Users\\sanke\\AppData\\Local\\Programs\\Python\\Python312\\Lib\\site-packages\\svo\\core.py:78: SyntaxWarning: invalid escape sequence '\\g'\n",
      "  text = re.sub(\"(\\r\\n|\\r|\\n|[.,!?。，！？])\", \"\\g<1><break time=\\\"{}s\\\"/>\".format(pause), text)\n"
     ]
    },
    {
     "ename": "ValueError",
     "evalue": "please specify gender or voice",
     "output_type": "error",
     "traceback": [
      "\u001b[1;31m---------------------------------------------------------------------------\u001b[0m",
      "\u001b[1;31mValueError\u001b[0m                                Traceback (most recent call last)",
      "Cell \u001b[1;32mIn[1], line 6\u001b[0m\n\u001b[0;32m      3\u001b[0m \u001b[38;5;28;01mfrom\u001b[39;00m \u001b[38;5;21;01msvo\u001b[39;00m \u001b[38;5;28;01mimport\u001b[39;00m SVO  \u001b[38;5;66;03m# Ensure SVO is properly installed\u001b[39;00m\n\u001b[0;32m      5\u001b[0m \u001b[38;5;66;03m# Initialize SVO\u001b[39;00m\n\u001b[1;32m----> 6\u001b[0m svo \u001b[38;5;241m=\u001b[39m \u001b[43mSVO\u001b[49m\u001b[43m(\u001b[49m\u001b[38;5;124;43m\"\u001b[39;49m\u001b[38;5;124;43mconfig/camera.yaml\u001b[39;49m\u001b[38;5;124;43m\"\u001b[39;49m\u001b[43m)\u001b[49m\n\u001b[0;32m      8\u001b[0m \u001b[38;5;66;03m# Open video feed\u001b[39;00m\n\u001b[0;32m      9\u001b[0m cap \u001b[38;5;241m=\u001b[39m cv2\u001b[38;5;241m.\u001b[39mVideoCapture(\u001b[38;5;124m\"\u001b[39m\u001b[38;5;124mdrone pov.mp4\u001b[39m\u001b[38;5;124m\"\u001b[39m)\n",
      "File \u001b[1;32mc:\\Users\\sanke\\AppData\\Local\\Programs\\Python\\Python312\\Lib\\site-packages\\svo\\core.py:27\u001b[0m, in \u001b[0;36mSVO.__init__\u001b[1;34m(self, language, gender, speed, volume, pause, voice)\u001b[0m\n\u001b[0;32m     17\u001b[0m \u001b[38;5;28;01mdef\u001b[39;00m \u001b[38;5;21m__init__\u001b[39m(\n\u001b[0;32m     18\u001b[0m         \u001b[38;5;28mself\u001b[39m,\n\u001b[0;32m     19\u001b[0m         language, \u001b[38;5;66;03m# type: str\u001b[39;00m\n\u001b[1;32m   (...)\u001b[0m\n\u001b[0;32m     24\u001b[0m         voice \u001b[38;5;241m=\u001b[39m \u001b[38;5;28;01mNone\u001b[39;00m \u001b[38;5;66;03m# type: str\u001b[39;00m\n\u001b[0;32m     25\u001b[0m ):\n\u001b[0;32m     26\u001b[0m     \u001b[38;5;28;01mif\u001b[39;00m \u001b[38;5;129;01mnot\u001b[39;00m gender \u001b[38;5;129;01mand\u001b[39;00m \u001b[38;5;129;01mnot\u001b[39;00m voice:\n\u001b[1;32m---> 27\u001b[0m         \u001b[38;5;28;01mraise\u001b[39;00m \u001b[38;5;167;01mValueError\u001b[39;00m(\u001b[38;5;124m\"\u001b[39m\u001b[38;5;124mplease specify gender or voice\u001b[39m\u001b[38;5;124m\"\u001b[39m)\n\u001b[0;32m     28\u001b[0m     \u001b[38;5;28mself\u001b[39m\u001b[38;5;241m.\u001b[39mlanguage \u001b[38;5;241m=\u001b[39m language\n\u001b[0;32m     29\u001b[0m     \u001b[38;5;28mself\u001b[39m\u001b[38;5;241m.\u001b[39mgender \u001b[38;5;241m=\u001b[39m gender\n",
      "\u001b[1;31mValueError\u001b[0m: please specify gender or voice"
     ]
    }
   ],
   "source": [
    "import cv2\n",
    "import numpy as np\n",
    "from svo import SVO  # Ensure SVO is properly installed\n",
    "\n",
    "# Initialize SVO\n",
    "svo = SVO(\"config/camera.yaml\")\n",
    "\n",
    "# Open video feed\n",
    "cap = cv2.VideoCapture(\"drone pov.mp4\")\n",
    "\n",
    "while cap.isOpened():\n",
    "    ret, frame = cap.read()\n",
    "    if not ret:\n",
    "        break\n",
    "\n",
    "    # Estimate drone position drift\n",
    "    pose = svo.process_frame(frame)\n",
    "\n",
    "    if pose is not None:\n",
    "        x, y, z = pose[:3, 3]  # Extract position\n",
    "        print(f\"Drone Drift: Δx={x:.2f}m, Δy={y:.2f}m, Δz={z:.2f}m\")\n",
    "\n",
    "cap.release()\n",
    "svo.shutdown()\n"
   ]
  },
  {
   "cell_type": "code",
   "execution_count": null,
   "metadata": {},
   "outputs": [],
   "source": []
  }
 ],
 "metadata": {
  "kernelspec": {
   "display_name": "Python 3",
   "language": "python",
   "name": "python3"
  },
  "language_info": {
   "codemirror_mode": {
    "name": "ipython",
    "version": 3
   },
   "file_extension": ".py",
   "mimetype": "text/x-python",
   "name": "python",
   "nbconvert_exporter": "python",
   "pygments_lexer": "ipython3",
   "version": "3.12.2"
  }
 },
 "nbformat": 4,
 "nbformat_minor": 2
}
